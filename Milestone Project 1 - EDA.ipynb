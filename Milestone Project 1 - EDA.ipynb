{
 "cells": [
  {
   "cell_type": "markdown",
   "id": "19789909-c145-4f09-b361-4b7644311229",
   "metadata": {},
   "source": [
    "### Importing Libraries"
   ]
  },
  {
   "cell_type": "code",
   "execution_count": 1,
   "id": "aadcfe90-b3fe-462f-9cde-150a9bb56866",
   "metadata": {},
   "outputs": [],
   "source": [
    "import pandas as pd\n",
    "import seaborn as sns\n",
    "import numpy as np\n",
    "import matplotlib.pyplot as plt\n",
    "import plotly.express as px\n",
    "import warnings\n",
    "warnings.filterwarnings('ignore')"
   ]
  },
  {
   "cell_type": "markdown",
   "id": "edee1478-02a8-44ac-9bb2-55034e7f1200",
   "metadata": {},
   "source": [
    "###  Data Importation"
   ]
  },
  {
   "cell_type": "code",
   "execution_count": 4,
   "id": "e7e67141-0fe8-45fb-a784-0720ee6276b0",
   "metadata": {},
   "outputs": [
    {
     "data": {
      "text/html": [
       "<div>\n",
       "<style scoped>\n",
       "    .dataframe tbody tr th:only-of-type {\n",
       "        vertical-align: middle;\n",
       "    }\n",
       "\n",
       "    .dataframe tbody tr th {\n",
       "        vertical-align: top;\n",
       "    }\n",
       "\n",
       "    .dataframe thead th {\n",
       "        text-align: right;\n",
       "    }\n",
       "</style>\n",
       "<table border=\"1\" class=\"dataframe\">\n",
       "  <thead>\n",
       "    <tr style=\"text-align: right;\">\n",
       "      <th></th>\n",
       "      <th>User ID</th>\n",
       "      <th>Device Model</th>\n",
       "      <th>Operating System</th>\n",
       "      <th>App Usage Time (min/day)</th>\n",
       "      <th>Screen On Time (hours/day)</th>\n",
       "      <th>Battery Drain (mAh/day)</th>\n",
       "      <th>Number of Apps Installed</th>\n",
       "      <th>Data Usage (MB/day)</th>\n",
       "      <th>Age</th>\n",
       "      <th>Gender</th>\n",
       "      <th>User Behavior Class</th>\n",
       "    </tr>\n",
       "  </thead>\n",
       "  <tbody>\n",
       "    <tr>\n",
       "      <th>0</th>\n",
       "      <td>1</td>\n",
       "      <td>Google Pixel 5</td>\n",
       "      <td>Android</td>\n",
       "      <td>393</td>\n",
       "      <td>6.4</td>\n",
       "      <td>1872</td>\n",
       "      <td>67</td>\n",
       "      <td>1122</td>\n",
       "      <td>40</td>\n",
       "      <td>Male</td>\n",
       "      <td>4</td>\n",
       "    </tr>\n",
       "    <tr>\n",
       "      <th>1</th>\n",
       "      <td>2</td>\n",
       "      <td>OnePlus 9</td>\n",
       "      <td>Android</td>\n",
       "      <td>268</td>\n",
       "      <td>4.7</td>\n",
       "      <td>1331</td>\n",
       "      <td>42</td>\n",
       "      <td>944</td>\n",
       "      <td>47</td>\n",
       "      <td>Female</td>\n",
       "      <td>3</td>\n",
       "    </tr>\n",
       "    <tr>\n",
       "      <th>2</th>\n",
       "      <td>3</td>\n",
       "      <td>Xiaomi Mi 11</td>\n",
       "      <td>Android</td>\n",
       "      <td>154</td>\n",
       "      <td>4.0</td>\n",
       "      <td>761</td>\n",
       "      <td>32</td>\n",
       "      <td>322</td>\n",
       "      <td>42</td>\n",
       "      <td>Male</td>\n",
       "      <td>2</td>\n",
       "    </tr>\n",
       "    <tr>\n",
       "      <th>3</th>\n",
       "      <td>4</td>\n",
       "      <td>Google Pixel 5</td>\n",
       "      <td>Android</td>\n",
       "      <td>239</td>\n",
       "      <td>4.8</td>\n",
       "      <td>1676</td>\n",
       "      <td>56</td>\n",
       "      <td>871</td>\n",
       "      <td>20</td>\n",
       "      <td>Male</td>\n",
       "      <td>3</td>\n",
       "    </tr>\n",
       "    <tr>\n",
       "      <th>4</th>\n",
       "      <td>5</td>\n",
       "      <td>iPhone 12</td>\n",
       "      <td>iOS</td>\n",
       "      <td>187</td>\n",
       "      <td>4.3</td>\n",
       "      <td>1367</td>\n",
       "      <td>58</td>\n",
       "      <td>988</td>\n",
       "      <td>31</td>\n",
       "      <td>Female</td>\n",
       "      <td>3</td>\n",
       "    </tr>\n",
       "    <tr>\n",
       "      <th>...</th>\n",
       "      <td>...</td>\n",
       "      <td>...</td>\n",
       "      <td>...</td>\n",
       "      <td>...</td>\n",
       "      <td>...</td>\n",
       "      <td>...</td>\n",
       "      <td>...</td>\n",
       "      <td>...</td>\n",
       "      <td>...</td>\n",
       "      <td>...</td>\n",
       "      <td>...</td>\n",
       "    </tr>\n",
       "    <tr>\n",
       "      <th>695</th>\n",
       "      <td>696</td>\n",
       "      <td>iPhone 12</td>\n",
       "      <td>iOS</td>\n",
       "      <td>92</td>\n",
       "      <td>3.9</td>\n",
       "      <td>1082</td>\n",
       "      <td>26</td>\n",
       "      <td>381</td>\n",
       "      <td>22</td>\n",
       "      <td>Male</td>\n",
       "      <td>2</td>\n",
       "    </tr>\n",
       "    <tr>\n",
       "      <th>696</th>\n",
       "      <td>697</td>\n",
       "      <td>Xiaomi Mi 11</td>\n",
       "      <td>Android</td>\n",
       "      <td>316</td>\n",
       "      <td>6.8</td>\n",
       "      <td>1965</td>\n",
       "      <td>68</td>\n",
       "      <td>1201</td>\n",
       "      <td>59</td>\n",
       "      <td>Male</td>\n",
       "      <td>4</td>\n",
       "    </tr>\n",
       "    <tr>\n",
       "      <th>697</th>\n",
       "      <td>698</td>\n",
       "      <td>Google Pixel 5</td>\n",
       "      <td>Android</td>\n",
       "      <td>99</td>\n",
       "      <td>3.1</td>\n",
       "      <td>942</td>\n",
       "      <td>22</td>\n",
       "      <td>457</td>\n",
       "      <td>50</td>\n",
       "      <td>Female</td>\n",
       "      <td>2</td>\n",
       "    </tr>\n",
       "    <tr>\n",
       "      <th>698</th>\n",
       "      <td>699</td>\n",
       "      <td>Samsung Galaxy S21</td>\n",
       "      <td>Android</td>\n",
       "      <td>62</td>\n",
       "      <td>1.7</td>\n",
       "      <td>431</td>\n",
       "      <td>13</td>\n",
       "      <td>224</td>\n",
       "      <td>44</td>\n",
       "      <td>Male</td>\n",
       "      <td>1</td>\n",
       "    </tr>\n",
       "    <tr>\n",
       "      <th>699</th>\n",
       "      <td>700</td>\n",
       "      <td>OnePlus 9</td>\n",
       "      <td>Android</td>\n",
       "      <td>212</td>\n",
       "      <td>5.4</td>\n",
       "      <td>1306</td>\n",
       "      <td>49</td>\n",
       "      <td>828</td>\n",
       "      <td>23</td>\n",
       "      <td>Female</td>\n",
       "      <td>3</td>\n",
       "    </tr>\n",
       "  </tbody>\n",
       "</table>\n",
       "<p>700 rows × 11 columns</p>\n",
       "</div>"
      ],
      "text/plain": [
       "     User ID        Device Model Operating System  App Usage Time (min/day)  \\\n",
       "0          1      Google Pixel 5          Android                       393   \n",
       "1          2           OnePlus 9          Android                       268   \n",
       "2          3        Xiaomi Mi 11          Android                       154   \n",
       "3          4      Google Pixel 5          Android                       239   \n",
       "4          5           iPhone 12              iOS                       187   \n",
       "..       ...                 ...              ...                       ...   \n",
       "695      696           iPhone 12              iOS                        92   \n",
       "696      697        Xiaomi Mi 11          Android                       316   \n",
       "697      698      Google Pixel 5          Android                        99   \n",
       "698      699  Samsung Galaxy S21          Android                        62   \n",
       "699      700           OnePlus 9          Android                       212   \n",
       "\n",
       "     Screen On Time (hours/day)  Battery Drain (mAh/day)  \\\n",
       "0                           6.4                     1872   \n",
       "1                           4.7                     1331   \n",
       "2                           4.0                      761   \n",
       "3                           4.8                     1676   \n",
       "4                           4.3                     1367   \n",
       "..                          ...                      ...   \n",
       "695                         3.9                     1082   \n",
       "696                         6.8                     1965   \n",
       "697                         3.1                      942   \n",
       "698                         1.7                      431   \n",
       "699                         5.4                     1306   \n",
       "\n",
       "     Number of Apps Installed  Data Usage (MB/day)  Age  Gender  \\\n",
       "0                          67                 1122   40    Male   \n",
       "1                          42                  944   47  Female   \n",
       "2                          32                  322   42    Male   \n",
       "3                          56                  871   20    Male   \n",
       "4                          58                  988   31  Female   \n",
       "..                        ...                  ...  ...     ...   \n",
       "695                        26                  381   22    Male   \n",
       "696                        68                 1201   59    Male   \n",
       "697                        22                  457   50  Female   \n",
       "698                        13                  224   44    Male   \n",
       "699                        49                  828   23  Female   \n",
       "\n",
       "     User Behavior Class  \n",
       "0                      4  \n",
       "1                      3  \n",
       "2                      2  \n",
       "3                      3  \n",
       "4                      3  \n",
       "..                   ...  \n",
       "695                    2  \n",
       "696                    4  \n",
       "697                    2  \n",
       "698                    1  \n",
       "699                    3  \n",
       "\n",
       "[700 rows x 11 columns]"
      ]
     },
     "execution_count": 4,
     "metadata": {},
     "output_type": "execute_result"
    }
   ],
   "source": [
    "data = pd.read_csv(r\"C:\\Users\\prane\\Downloads\\archive\\user_behavior_dataset.csv\")\n",
    "data"
   ]
  },
  {
   "cell_type": "markdown",
   "id": "af955f2f-53f5-4d89-8d38-54af64e63377",
   "metadata": {},
   "source": [
    "###  Initial Data Exploration"
   ]
  },
  {
   "cell_type": "code",
   "execution_count": 7,
   "id": "7a098250-c775-473f-84cf-3b69efa410a1",
   "metadata": {},
   "outputs": [
    {
     "data": {
      "text/html": [
       "<div>\n",
       "<style scoped>\n",
       "    .dataframe tbody tr th:only-of-type {\n",
       "        vertical-align: middle;\n",
       "    }\n",
       "\n",
       "    .dataframe tbody tr th {\n",
       "        vertical-align: top;\n",
       "    }\n",
       "\n",
       "    .dataframe thead th {\n",
       "        text-align: right;\n",
       "    }\n",
       "</style>\n",
       "<table border=\"1\" class=\"dataframe\">\n",
       "  <thead>\n",
       "    <tr style=\"text-align: right;\">\n",
       "      <th></th>\n",
       "      <th>User ID</th>\n",
       "      <th>Device Model</th>\n",
       "      <th>Operating System</th>\n",
       "      <th>App Usage Time (min/day)</th>\n",
       "      <th>Screen On Time (hours/day)</th>\n",
       "      <th>Battery Drain (mAh/day)</th>\n",
       "      <th>Number of Apps Installed</th>\n",
       "      <th>Data Usage (MB/day)</th>\n",
       "      <th>Age</th>\n",
       "      <th>Gender</th>\n",
       "      <th>User Behavior Class</th>\n",
       "    </tr>\n",
       "  </thead>\n",
       "  <tbody>\n",
       "    <tr>\n",
       "      <th>0</th>\n",
       "      <td>1</td>\n",
       "      <td>Google Pixel 5</td>\n",
       "      <td>Android</td>\n",
       "      <td>393</td>\n",
       "      <td>6.4</td>\n",
       "      <td>1872</td>\n",
       "      <td>67</td>\n",
       "      <td>1122</td>\n",
       "      <td>40</td>\n",
       "      <td>Male</td>\n",
       "      <td>4</td>\n",
       "    </tr>\n",
       "    <tr>\n",
       "      <th>1</th>\n",
       "      <td>2</td>\n",
       "      <td>OnePlus 9</td>\n",
       "      <td>Android</td>\n",
       "      <td>268</td>\n",
       "      <td>4.7</td>\n",
       "      <td>1331</td>\n",
       "      <td>42</td>\n",
       "      <td>944</td>\n",
       "      <td>47</td>\n",
       "      <td>Female</td>\n",
       "      <td>3</td>\n",
       "    </tr>\n",
       "    <tr>\n",
       "      <th>2</th>\n",
       "      <td>3</td>\n",
       "      <td>Xiaomi Mi 11</td>\n",
       "      <td>Android</td>\n",
       "      <td>154</td>\n",
       "      <td>4.0</td>\n",
       "      <td>761</td>\n",
       "      <td>32</td>\n",
       "      <td>322</td>\n",
       "      <td>42</td>\n",
       "      <td>Male</td>\n",
       "      <td>2</td>\n",
       "    </tr>\n",
       "    <tr>\n",
       "      <th>3</th>\n",
       "      <td>4</td>\n",
       "      <td>Google Pixel 5</td>\n",
       "      <td>Android</td>\n",
       "      <td>239</td>\n",
       "      <td>4.8</td>\n",
       "      <td>1676</td>\n",
       "      <td>56</td>\n",
       "      <td>871</td>\n",
       "      <td>20</td>\n",
       "      <td>Male</td>\n",
       "      <td>3</td>\n",
       "    </tr>\n",
       "    <tr>\n",
       "      <th>4</th>\n",
       "      <td>5</td>\n",
       "      <td>iPhone 12</td>\n",
       "      <td>iOS</td>\n",
       "      <td>187</td>\n",
       "      <td>4.3</td>\n",
       "      <td>1367</td>\n",
       "      <td>58</td>\n",
       "      <td>988</td>\n",
       "      <td>31</td>\n",
       "      <td>Female</td>\n",
       "      <td>3</td>\n",
       "    </tr>\n",
       "    <tr>\n",
       "      <th>5</th>\n",
       "      <td>6</td>\n",
       "      <td>Google Pixel 5</td>\n",
       "      <td>Android</td>\n",
       "      <td>99</td>\n",
       "      <td>2.0</td>\n",
       "      <td>940</td>\n",
       "      <td>35</td>\n",
       "      <td>564</td>\n",
       "      <td>31</td>\n",
       "      <td>Male</td>\n",
       "      <td>2</td>\n",
       "    </tr>\n",
       "    <tr>\n",
       "      <th>6</th>\n",
       "      <td>7</td>\n",
       "      <td>Samsung Galaxy S21</td>\n",
       "      <td>Android</td>\n",
       "      <td>350</td>\n",
       "      <td>7.3</td>\n",
       "      <td>1802</td>\n",
       "      <td>66</td>\n",
       "      <td>1054</td>\n",
       "      <td>21</td>\n",
       "      <td>Female</td>\n",
       "      <td>4</td>\n",
       "    </tr>\n",
       "    <tr>\n",
       "      <th>7</th>\n",
       "      <td>8</td>\n",
       "      <td>OnePlus 9</td>\n",
       "      <td>Android</td>\n",
       "      <td>543</td>\n",
       "      <td>11.4</td>\n",
       "      <td>2956</td>\n",
       "      <td>82</td>\n",
       "      <td>1702</td>\n",
       "      <td>31</td>\n",
       "      <td>Male</td>\n",
       "      <td>5</td>\n",
       "    </tr>\n",
       "    <tr>\n",
       "      <th>8</th>\n",
       "      <td>9</td>\n",
       "      <td>Samsung Galaxy S21</td>\n",
       "      <td>Android</td>\n",
       "      <td>340</td>\n",
       "      <td>7.7</td>\n",
       "      <td>2138</td>\n",
       "      <td>75</td>\n",
       "      <td>1053</td>\n",
       "      <td>42</td>\n",
       "      <td>Female</td>\n",
       "      <td>4</td>\n",
       "    </tr>\n",
       "    <tr>\n",
       "      <th>9</th>\n",
       "      <td>10</td>\n",
       "      <td>iPhone 12</td>\n",
       "      <td>iOS</td>\n",
       "      <td>424</td>\n",
       "      <td>6.6</td>\n",
       "      <td>1957</td>\n",
       "      <td>75</td>\n",
       "      <td>1301</td>\n",
       "      <td>42</td>\n",
       "      <td>Male</td>\n",
       "      <td>4</td>\n",
       "    </tr>\n",
       "  </tbody>\n",
       "</table>\n",
       "</div>"
      ],
      "text/plain": [
       "   User ID        Device Model Operating System  App Usage Time (min/day)  \\\n",
       "0        1      Google Pixel 5          Android                       393   \n",
       "1        2           OnePlus 9          Android                       268   \n",
       "2        3        Xiaomi Mi 11          Android                       154   \n",
       "3        4      Google Pixel 5          Android                       239   \n",
       "4        5           iPhone 12              iOS                       187   \n",
       "5        6      Google Pixel 5          Android                        99   \n",
       "6        7  Samsung Galaxy S21          Android                       350   \n",
       "7        8           OnePlus 9          Android                       543   \n",
       "8        9  Samsung Galaxy S21          Android                       340   \n",
       "9       10           iPhone 12              iOS                       424   \n",
       "\n",
       "   Screen On Time (hours/day)  Battery Drain (mAh/day)  \\\n",
       "0                         6.4                     1872   \n",
       "1                         4.7                     1331   \n",
       "2                         4.0                      761   \n",
       "3                         4.8                     1676   \n",
       "4                         4.3                     1367   \n",
       "5                         2.0                      940   \n",
       "6                         7.3                     1802   \n",
       "7                        11.4                     2956   \n",
       "8                         7.7                     2138   \n",
       "9                         6.6                     1957   \n",
       "\n",
       "   Number of Apps Installed  Data Usage (MB/day)  Age  Gender  \\\n",
       "0                        67                 1122   40    Male   \n",
       "1                        42                  944   47  Female   \n",
       "2                        32                  322   42    Male   \n",
       "3                        56                  871   20    Male   \n",
       "4                        58                  988   31  Female   \n",
       "5                        35                  564   31    Male   \n",
       "6                        66                 1054   21  Female   \n",
       "7                        82                 1702   31    Male   \n",
       "8                        75                 1053   42  Female   \n",
       "9                        75                 1301   42    Male   \n",
       "\n",
       "   User Behavior Class  \n",
       "0                    4  \n",
       "1                    3  \n",
       "2                    2  \n",
       "3                    3  \n",
       "4                    3  \n",
       "5                    2  \n",
       "6                    4  \n",
       "7                    5  \n",
       "8                    4  \n",
       "9                    4  "
      ]
     },
     "execution_count": 7,
     "metadata": {},
     "output_type": "execute_result"
    }
   ],
   "source": [
    "data.head(10)"
   ]
  },
  {
   "cell_type": "code",
   "execution_count": 9,
   "id": "6f7fdc9e-7bf3-4d2d-8b39-b96e77ce9abd",
   "metadata": {},
   "outputs": [
    {
     "data": {
      "text/html": [
       "<div>\n",
       "<style scoped>\n",
       "    .dataframe tbody tr th:only-of-type {\n",
       "        vertical-align: middle;\n",
       "    }\n",
       "\n",
       "    .dataframe tbody tr th {\n",
       "        vertical-align: top;\n",
       "    }\n",
       "\n",
       "    .dataframe thead th {\n",
       "        text-align: right;\n",
       "    }\n",
       "</style>\n",
       "<table border=\"1\" class=\"dataframe\">\n",
       "  <thead>\n",
       "    <tr style=\"text-align: right;\">\n",
       "      <th></th>\n",
       "      <th>User ID</th>\n",
       "      <th>Device Model</th>\n",
       "      <th>Operating System</th>\n",
       "      <th>App Usage Time (min/day)</th>\n",
       "      <th>Screen On Time (hours/day)</th>\n",
       "      <th>Battery Drain (mAh/day)</th>\n",
       "      <th>Number of Apps Installed</th>\n",
       "      <th>Data Usage (MB/day)</th>\n",
       "      <th>Age</th>\n",
       "      <th>Gender</th>\n",
       "      <th>User Behavior Class</th>\n",
       "    </tr>\n",
       "  </thead>\n",
       "  <tbody>\n",
       "    <tr>\n",
       "      <th>695</th>\n",
       "      <td>696</td>\n",
       "      <td>iPhone 12</td>\n",
       "      <td>iOS</td>\n",
       "      <td>92</td>\n",
       "      <td>3.9</td>\n",
       "      <td>1082</td>\n",
       "      <td>26</td>\n",
       "      <td>381</td>\n",
       "      <td>22</td>\n",
       "      <td>Male</td>\n",
       "      <td>2</td>\n",
       "    </tr>\n",
       "    <tr>\n",
       "      <th>696</th>\n",
       "      <td>697</td>\n",
       "      <td>Xiaomi Mi 11</td>\n",
       "      <td>Android</td>\n",
       "      <td>316</td>\n",
       "      <td>6.8</td>\n",
       "      <td>1965</td>\n",
       "      <td>68</td>\n",
       "      <td>1201</td>\n",
       "      <td>59</td>\n",
       "      <td>Male</td>\n",
       "      <td>4</td>\n",
       "    </tr>\n",
       "    <tr>\n",
       "      <th>697</th>\n",
       "      <td>698</td>\n",
       "      <td>Google Pixel 5</td>\n",
       "      <td>Android</td>\n",
       "      <td>99</td>\n",
       "      <td>3.1</td>\n",
       "      <td>942</td>\n",
       "      <td>22</td>\n",
       "      <td>457</td>\n",
       "      <td>50</td>\n",
       "      <td>Female</td>\n",
       "      <td>2</td>\n",
       "    </tr>\n",
       "    <tr>\n",
       "      <th>698</th>\n",
       "      <td>699</td>\n",
       "      <td>Samsung Galaxy S21</td>\n",
       "      <td>Android</td>\n",
       "      <td>62</td>\n",
       "      <td>1.7</td>\n",
       "      <td>431</td>\n",
       "      <td>13</td>\n",
       "      <td>224</td>\n",
       "      <td>44</td>\n",
       "      <td>Male</td>\n",
       "      <td>1</td>\n",
       "    </tr>\n",
       "    <tr>\n",
       "      <th>699</th>\n",
       "      <td>700</td>\n",
       "      <td>OnePlus 9</td>\n",
       "      <td>Android</td>\n",
       "      <td>212</td>\n",
       "      <td>5.4</td>\n",
       "      <td>1306</td>\n",
       "      <td>49</td>\n",
       "      <td>828</td>\n",
       "      <td>23</td>\n",
       "      <td>Female</td>\n",
       "      <td>3</td>\n",
       "    </tr>\n",
       "  </tbody>\n",
       "</table>\n",
       "</div>"
      ],
      "text/plain": [
       "     User ID        Device Model Operating System  App Usage Time (min/day)  \\\n",
       "695      696           iPhone 12              iOS                        92   \n",
       "696      697        Xiaomi Mi 11          Android                       316   \n",
       "697      698      Google Pixel 5          Android                        99   \n",
       "698      699  Samsung Galaxy S21          Android                        62   \n",
       "699      700           OnePlus 9          Android                       212   \n",
       "\n",
       "     Screen On Time (hours/day)  Battery Drain (mAh/day)  \\\n",
       "695                         3.9                     1082   \n",
       "696                         6.8                     1965   \n",
       "697                         3.1                      942   \n",
       "698                         1.7                      431   \n",
       "699                         5.4                     1306   \n",
       "\n",
       "     Number of Apps Installed  Data Usage (MB/day)  Age  Gender  \\\n",
       "695                        26                  381   22    Male   \n",
       "696                        68                 1201   59    Male   \n",
       "697                        22                  457   50  Female   \n",
       "698                        13                  224   44    Male   \n",
       "699                        49                  828   23  Female   \n",
       "\n",
       "     User Behavior Class  \n",
       "695                    2  \n",
       "696                    4  \n",
       "697                    2  \n",
       "698                    1  \n",
       "699                    3  "
      ]
     },
     "execution_count": 9,
     "metadata": {},
     "output_type": "execute_result"
    }
   ],
   "source": [
    "data.tail()"
   ]
  },
  {
   "cell_type": "code",
   "execution_count": 11,
   "id": "ffcbe6f7-e231-4001-a8fd-b414d8fafaac",
   "metadata": {},
   "outputs": [
    {
     "data": {
      "text/plain": [
       "(700, 11)"
      ]
     },
     "execution_count": 11,
     "metadata": {},
     "output_type": "execute_result"
    }
   ],
   "source": [
    "data.shape"
   ]
  },
  {
   "cell_type": "code",
   "execution_count": 13,
   "id": "59a6e31b-4fe1-4052-be0b-c77658b10a48",
   "metadata": {},
   "outputs": [
    {
     "data": {
      "text/plain": [
       "Index(['User ID', 'Device Model', 'Operating System',\n",
       "       'App Usage Time (min/day)', 'Screen On Time (hours/day)',\n",
       "       'Battery Drain (mAh/day)', 'Number of Apps Installed',\n",
       "       'Data Usage (MB/day)', 'Age', 'Gender', 'User Behavior Class'],\n",
       "      dtype='object')"
      ]
     },
     "execution_count": 13,
     "metadata": {},
     "output_type": "execute_result"
    }
   ],
   "source": [
    "data.columns"
   ]
  },
  {
   "cell_type": "code",
   "execution_count": 15,
   "id": "7eae97c8-168d-4d89-9242-8e545fb45e7f",
   "metadata": {},
   "outputs": [
    {
     "data": {
      "text/plain": [
       "User ID                         int64\n",
       "Device Model                   object\n",
       "Operating System               object\n",
       "App Usage Time (min/day)        int64\n",
       "Screen On Time (hours/day)    float64\n",
       "Battery Drain (mAh/day)         int64\n",
       "Number of Apps Installed        int64\n",
       "Data Usage (MB/day)             int64\n",
       "Age                             int64\n",
       "Gender                         object\n",
       "User Behavior Class             int64\n",
       "dtype: object"
      ]
     },
     "execution_count": 15,
     "metadata": {},
     "output_type": "execute_result"
    }
   ],
   "source": [
    "data.dtypes"
   ]
  },
  {
   "cell_type": "code",
   "execution_count": 17,
   "id": "d4fe4618-80f6-49dc-a2dd-f5d8c285c6c6",
   "metadata": {},
   "outputs": [
    {
     "data": {
      "text/html": [
       "<div>\n",
       "<style scoped>\n",
       "    .dataframe tbody tr th:only-of-type {\n",
       "        vertical-align: middle;\n",
       "    }\n",
       "\n",
       "    .dataframe tbody tr th {\n",
       "        vertical-align: top;\n",
       "    }\n",
       "\n",
       "    .dataframe thead th {\n",
       "        text-align: right;\n",
       "    }\n",
       "</style>\n",
       "<table border=\"1\" class=\"dataframe\">\n",
       "  <thead>\n",
       "    <tr style=\"text-align: right;\">\n",
       "      <th></th>\n",
       "      <th>Device Model</th>\n",
       "      <th>Operating System</th>\n",
       "      <th>Gender</th>\n",
       "    </tr>\n",
       "  </thead>\n",
       "  <tbody>\n",
       "    <tr>\n",
       "      <th>count</th>\n",
       "      <td>700</td>\n",
       "      <td>700</td>\n",
       "      <td>700</td>\n",
       "    </tr>\n",
       "    <tr>\n",
       "      <th>unique</th>\n",
       "      <td>5</td>\n",
       "      <td>2</td>\n",
       "      <td>2</td>\n",
       "    </tr>\n",
       "    <tr>\n",
       "      <th>top</th>\n",
       "      <td>Xiaomi Mi 11</td>\n",
       "      <td>Android</td>\n",
       "      <td>Male</td>\n",
       "    </tr>\n",
       "    <tr>\n",
       "      <th>freq</th>\n",
       "      <td>146</td>\n",
       "      <td>554</td>\n",
       "      <td>364</td>\n",
       "    </tr>\n",
       "  </tbody>\n",
       "</table>\n",
       "</div>"
      ],
      "text/plain": [
       "        Device Model Operating System Gender\n",
       "count            700              700    700\n",
       "unique             5                2      2\n",
       "top     Xiaomi Mi 11          Android   Male\n",
       "freq             146              554    364"
      ]
     },
     "execution_count": 17,
     "metadata": {},
     "output_type": "execute_result"
    }
   ],
   "source": [
    "data.describe(include = \"object\")"
   ]
  },
  {
   "cell_type": "code",
   "execution_count": 19,
   "id": "998d0542-733c-4410-a456-1433c460ad8e",
   "metadata": {},
   "outputs": [
    {
     "data": {
      "text/html": [
       "<div>\n",
       "<style scoped>\n",
       "    .dataframe tbody tr th:only-of-type {\n",
       "        vertical-align: middle;\n",
       "    }\n",
       "\n",
       "    .dataframe tbody tr th {\n",
       "        vertical-align: top;\n",
       "    }\n",
       "\n",
       "    .dataframe thead th {\n",
       "        text-align: right;\n",
       "    }\n",
       "</style>\n",
       "<table border=\"1\" class=\"dataframe\">\n",
       "  <thead>\n",
       "    <tr style=\"text-align: right;\">\n",
       "      <th></th>\n",
       "      <th>User ID</th>\n",
       "      <th>App Usage Time (min/day)</th>\n",
       "      <th>Battery Drain (mAh/day)</th>\n",
       "      <th>Number of Apps Installed</th>\n",
       "      <th>Data Usage (MB/day)</th>\n",
       "      <th>Age</th>\n",
       "      <th>User Behavior Class</th>\n",
       "    </tr>\n",
       "  </thead>\n",
       "  <tbody>\n",
       "    <tr>\n",
       "      <th>count</th>\n",
       "      <td>700.00000</td>\n",
       "      <td>700.000000</td>\n",
       "      <td>700.000000</td>\n",
       "      <td>700.000000</td>\n",
       "      <td>700.000000</td>\n",
       "      <td>700.000000</td>\n",
       "      <td>700.000000</td>\n",
       "    </tr>\n",
       "    <tr>\n",
       "      <th>mean</th>\n",
       "      <td>350.50000</td>\n",
       "      <td>271.128571</td>\n",
       "      <td>1525.158571</td>\n",
       "      <td>50.681429</td>\n",
       "      <td>929.742857</td>\n",
       "      <td>38.482857</td>\n",
       "      <td>2.990000</td>\n",
       "    </tr>\n",
       "    <tr>\n",
       "      <th>std</th>\n",
       "      <td>202.21688</td>\n",
       "      <td>177.199484</td>\n",
       "      <td>819.136414</td>\n",
       "      <td>26.943324</td>\n",
       "      <td>640.451729</td>\n",
       "      <td>12.012916</td>\n",
       "      <td>1.401476</td>\n",
       "    </tr>\n",
       "    <tr>\n",
       "      <th>min</th>\n",
       "      <td>1.00000</td>\n",
       "      <td>30.000000</td>\n",
       "      <td>302.000000</td>\n",
       "      <td>10.000000</td>\n",
       "      <td>102.000000</td>\n",
       "      <td>18.000000</td>\n",
       "      <td>1.000000</td>\n",
       "    </tr>\n",
       "    <tr>\n",
       "      <th>25%</th>\n",
       "      <td>175.75000</td>\n",
       "      <td>113.250000</td>\n",
       "      <td>722.250000</td>\n",
       "      <td>26.000000</td>\n",
       "      <td>373.000000</td>\n",
       "      <td>28.000000</td>\n",
       "      <td>2.000000</td>\n",
       "    </tr>\n",
       "    <tr>\n",
       "      <th>50%</th>\n",
       "      <td>350.50000</td>\n",
       "      <td>227.500000</td>\n",
       "      <td>1502.500000</td>\n",
       "      <td>49.000000</td>\n",
       "      <td>823.500000</td>\n",
       "      <td>38.000000</td>\n",
       "      <td>3.000000</td>\n",
       "    </tr>\n",
       "    <tr>\n",
       "      <th>75%</th>\n",
       "      <td>525.25000</td>\n",
       "      <td>434.250000</td>\n",
       "      <td>2229.500000</td>\n",
       "      <td>74.000000</td>\n",
       "      <td>1341.000000</td>\n",
       "      <td>49.000000</td>\n",
       "      <td>4.000000</td>\n",
       "    </tr>\n",
       "    <tr>\n",
       "      <th>max</th>\n",
       "      <td>700.00000</td>\n",
       "      <td>598.000000</td>\n",
       "      <td>2993.000000</td>\n",
       "      <td>99.000000</td>\n",
       "      <td>2497.000000</td>\n",
       "      <td>59.000000</td>\n",
       "      <td>5.000000</td>\n",
       "    </tr>\n",
       "  </tbody>\n",
       "</table>\n",
       "</div>"
      ],
      "text/plain": [
       "         User ID  App Usage Time (min/day)  Battery Drain (mAh/day)  \\\n",
       "count  700.00000                700.000000               700.000000   \n",
       "mean   350.50000                271.128571              1525.158571   \n",
       "std    202.21688                177.199484               819.136414   \n",
       "min      1.00000                 30.000000               302.000000   \n",
       "25%    175.75000                113.250000               722.250000   \n",
       "50%    350.50000                227.500000              1502.500000   \n",
       "75%    525.25000                434.250000              2229.500000   \n",
       "max    700.00000                598.000000              2993.000000   \n",
       "\n",
       "       Number of Apps Installed  Data Usage (MB/day)         Age  \\\n",
       "count                700.000000           700.000000  700.000000   \n",
       "mean                  50.681429           929.742857   38.482857   \n",
       "std                   26.943324           640.451729   12.012916   \n",
       "min                   10.000000           102.000000   18.000000   \n",
       "25%                   26.000000           373.000000   28.000000   \n",
       "50%                   49.000000           823.500000   38.000000   \n",
       "75%                   74.000000          1341.000000   49.000000   \n",
       "max                   99.000000          2497.000000   59.000000   \n",
       "\n",
       "       User Behavior Class  \n",
       "count           700.000000  \n",
       "mean              2.990000  \n",
       "std               1.401476  \n",
       "min               1.000000  \n",
       "25%               2.000000  \n",
       "50%               3.000000  \n",
       "75%               4.000000  \n",
       "max               5.000000  "
      ]
     },
     "execution_count": 19,
     "metadata": {},
     "output_type": "execute_result"
    }
   ],
   "source": [
    "data.describe(include = \"int\")"
   ]
  },
  {
   "cell_type": "code",
   "execution_count": 21,
   "id": "61659b47-44a0-47b5-a46e-1d6a483b2149",
   "metadata": {},
   "outputs": [
    {
     "name": "stdout",
     "output_type": "stream",
     "text": [
      "<class 'pandas.core.frame.DataFrame'>\n",
      "RangeIndex: 700 entries, 0 to 699\n",
      "Data columns (total 11 columns):\n",
      " #   Column                      Non-Null Count  Dtype  \n",
      "---  ------                      --------------  -----  \n",
      " 0   User ID                     700 non-null    int64  \n",
      " 1   Device Model                700 non-null    object \n",
      " 2   Operating System            700 non-null    object \n",
      " 3   App Usage Time (min/day)    700 non-null    int64  \n",
      " 4   Screen On Time (hours/day)  700 non-null    float64\n",
      " 5   Battery Drain (mAh/day)     700 non-null    int64  \n",
      " 6   Number of Apps Installed    700 non-null    int64  \n",
      " 7   Data Usage (MB/day)         700 non-null    int64  \n",
      " 8   Age                         700 non-null    int64  \n",
      " 9   Gender                      700 non-null    object \n",
      " 10  User Behavior Class         700 non-null    int64  \n",
      "dtypes: float64(1), int64(7), object(3)\n",
      "memory usage: 60.3+ KB\n"
     ]
    }
   ],
   "source": [
    "data.info()"
   ]
  },
  {
   "cell_type": "code",
   "execution_count": 23,
   "id": "d0ed9c70-e4e7-46b8-a0ca-d1256b93bcb8",
   "metadata": {},
   "outputs": [
    {
     "data": {
      "text/html": [
       "<div>\n",
       "<style scoped>\n",
       "    .dataframe tbody tr th:only-of-type {\n",
       "        vertical-align: middle;\n",
       "    }\n",
       "\n",
       "    .dataframe tbody tr th {\n",
       "        vertical-align: top;\n",
       "    }\n",
       "\n",
       "    .dataframe thead th {\n",
       "        text-align: right;\n",
       "    }\n",
       "</style>\n",
       "<table border=\"1\" class=\"dataframe\">\n",
       "  <thead>\n",
       "    <tr style=\"text-align: right;\">\n",
       "      <th></th>\n",
       "      <th>User ID</th>\n",
       "      <th>Device Model</th>\n",
       "      <th>Operating System</th>\n",
       "      <th>App Usage Time (min/day)</th>\n",
       "      <th>Screen On Time (hours/day)</th>\n",
       "      <th>Battery Drain (mAh/day)</th>\n",
       "      <th>Number of Apps Installed</th>\n",
       "      <th>Data Usage (MB/day)</th>\n",
       "      <th>Age</th>\n",
       "      <th>Gender</th>\n",
       "      <th>User Behavior Class</th>\n",
       "    </tr>\n",
       "  </thead>\n",
       "  <tbody>\n",
       "    <tr>\n",
       "      <th>count</th>\n",
       "      <td>700.00000</td>\n",
       "      <td>700</td>\n",
       "      <td>700</td>\n",
       "      <td>700.000000</td>\n",
       "      <td>700.000000</td>\n",
       "      <td>700.000000</td>\n",
       "      <td>700.000000</td>\n",
       "      <td>700.000000</td>\n",
       "      <td>700.000000</td>\n",
       "      <td>700</td>\n",
       "      <td>700.000000</td>\n",
       "    </tr>\n",
       "    <tr>\n",
       "      <th>unique</th>\n",
       "      <td>NaN</td>\n",
       "      <td>5</td>\n",
       "      <td>2</td>\n",
       "      <td>NaN</td>\n",
       "      <td>NaN</td>\n",
       "      <td>NaN</td>\n",
       "      <td>NaN</td>\n",
       "      <td>NaN</td>\n",
       "      <td>NaN</td>\n",
       "      <td>2</td>\n",
       "      <td>NaN</td>\n",
       "    </tr>\n",
       "    <tr>\n",
       "      <th>top</th>\n",
       "      <td>NaN</td>\n",
       "      <td>Xiaomi Mi 11</td>\n",
       "      <td>Android</td>\n",
       "      <td>NaN</td>\n",
       "      <td>NaN</td>\n",
       "      <td>NaN</td>\n",
       "      <td>NaN</td>\n",
       "      <td>NaN</td>\n",
       "      <td>NaN</td>\n",
       "      <td>Male</td>\n",
       "      <td>NaN</td>\n",
       "    </tr>\n",
       "    <tr>\n",
       "      <th>freq</th>\n",
       "      <td>NaN</td>\n",
       "      <td>146</td>\n",
       "      <td>554</td>\n",
       "      <td>NaN</td>\n",
       "      <td>NaN</td>\n",
       "      <td>NaN</td>\n",
       "      <td>NaN</td>\n",
       "      <td>NaN</td>\n",
       "      <td>NaN</td>\n",
       "      <td>364</td>\n",
       "      <td>NaN</td>\n",
       "    </tr>\n",
       "    <tr>\n",
       "      <th>mean</th>\n",
       "      <td>350.50000</td>\n",
       "      <td>NaN</td>\n",
       "      <td>NaN</td>\n",
       "      <td>271.128571</td>\n",
       "      <td>5.272714</td>\n",
       "      <td>1525.158571</td>\n",
       "      <td>50.681429</td>\n",
       "      <td>929.742857</td>\n",
       "      <td>38.482857</td>\n",
       "      <td>NaN</td>\n",
       "      <td>2.990000</td>\n",
       "    </tr>\n",
       "    <tr>\n",
       "      <th>std</th>\n",
       "      <td>202.21688</td>\n",
       "      <td>NaN</td>\n",
       "      <td>NaN</td>\n",
       "      <td>177.199484</td>\n",
       "      <td>3.068584</td>\n",
       "      <td>819.136414</td>\n",
       "      <td>26.943324</td>\n",
       "      <td>640.451729</td>\n",
       "      <td>12.012916</td>\n",
       "      <td>NaN</td>\n",
       "      <td>1.401476</td>\n",
       "    </tr>\n",
       "    <tr>\n",
       "      <th>min</th>\n",
       "      <td>1.00000</td>\n",
       "      <td>NaN</td>\n",
       "      <td>NaN</td>\n",
       "      <td>30.000000</td>\n",
       "      <td>1.000000</td>\n",
       "      <td>302.000000</td>\n",
       "      <td>10.000000</td>\n",
       "      <td>102.000000</td>\n",
       "      <td>18.000000</td>\n",
       "      <td>NaN</td>\n",
       "      <td>1.000000</td>\n",
       "    </tr>\n",
       "    <tr>\n",
       "      <th>25%</th>\n",
       "      <td>175.75000</td>\n",
       "      <td>NaN</td>\n",
       "      <td>NaN</td>\n",
       "      <td>113.250000</td>\n",
       "      <td>2.500000</td>\n",
       "      <td>722.250000</td>\n",
       "      <td>26.000000</td>\n",
       "      <td>373.000000</td>\n",
       "      <td>28.000000</td>\n",
       "      <td>NaN</td>\n",
       "      <td>2.000000</td>\n",
       "    </tr>\n",
       "    <tr>\n",
       "      <th>50%</th>\n",
       "      <td>350.50000</td>\n",
       "      <td>NaN</td>\n",
       "      <td>NaN</td>\n",
       "      <td>227.500000</td>\n",
       "      <td>4.900000</td>\n",
       "      <td>1502.500000</td>\n",
       "      <td>49.000000</td>\n",
       "      <td>823.500000</td>\n",
       "      <td>38.000000</td>\n",
       "      <td>NaN</td>\n",
       "      <td>3.000000</td>\n",
       "    </tr>\n",
       "    <tr>\n",
       "      <th>75%</th>\n",
       "      <td>525.25000</td>\n",
       "      <td>NaN</td>\n",
       "      <td>NaN</td>\n",
       "      <td>434.250000</td>\n",
       "      <td>7.400000</td>\n",
       "      <td>2229.500000</td>\n",
       "      <td>74.000000</td>\n",
       "      <td>1341.000000</td>\n",
       "      <td>49.000000</td>\n",
       "      <td>NaN</td>\n",
       "      <td>4.000000</td>\n",
       "    </tr>\n",
       "    <tr>\n",
       "      <th>max</th>\n",
       "      <td>700.00000</td>\n",
       "      <td>NaN</td>\n",
       "      <td>NaN</td>\n",
       "      <td>598.000000</td>\n",
       "      <td>12.000000</td>\n",
       "      <td>2993.000000</td>\n",
       "      <td>99.000000</td>\n",
       "      <td>2497.000000</td>\n",
       "      <td>59.000000</td>\n",
       "      <td>NaN</td>\n",
       "      <td>5.000000</td>\n",
       "    </tr>\n",
       "  </tbody>\n",
       "</table>\n",
       "</div>"
      ],
      "text/plain": [
       "          User ID  Device Model Operating System  App Usage Time (min/day)  \\\n",
       "count   700.00000           700              700                700.000000   \n",
       "unique        NaN             5                2                       NaN   \n",
       "top           NaN  Xiaomi Mi 11          Android                       NaN   \n",
       "freq          NaN           146              554                       NaN   \n",
       "mean    350.50000           NaN              NaN                271.128571   \n",
       "std     202.21688           NaN              NaN                177.199484   \n",
       "min       1.00000           NaN              NaN                 30.000000   \n",
       "25%     175.75000           NaN              NaN                113.250000   \n",
       "50%     350.50000           NaN              NaN                227.500000   \n",
       "75%     525.25000           NaN              NaN                434.250000   \n",
       "max     700.00000           NaN              NaN                598.000000   \n",
       "\n",
       "        Screen On Time (hours/day)  Battery Drain (mAh/day)  \\\n",
       "count                   700.000000               700.000000   \n",
       "unique                         NaN                      NaN   \n",
       "top                            NaN                      NaN   \n",
       "freq                           NaN                      NaN   \n",
       "mean                      5.272714              1525.158571   \n",
       "std                       3.068584               819.136414   \n",
       "min                       1.000000               302.000000   \n",
       "25%                       2.500000               722.250000   \n",
       "50%                       4.900000              1502.500000   \n",
       "75%                       7.400000              2229.500000   \n",
       "max                      12.000000              2993.000000   \n",
       "\n",
       "        Number of Apps Installed  Data Usage (MB/day)         Age Gender  \\\n",
       "count                 700.000000           700.000000  700.000000    700   \n",
       "unique                       NaN                  NaN         NaN      2   \n",
       "top                          NaN                  NaN         NaN   Male   \n",
       "freq                         NaN                  NaN         NaN    364   \n",
       "mean                   50.681429           929.742857   38.482857    NaN   \n",
       "std                    26.943324           640.451729   12.012916    NaN   \n",
       "min                    10.000000           102.000000   18.000000    NaN   \n",
       "25%                    26.000000           373.000000   28.000000    NaN   \n",
       "50%                    49.000000           823.500000   38.000000    NaN   \n",
       "75%                    74.000000          1341.000000   49.000000    NaN   \n",
       "max                    99.000000          2497.000000   59.000000    NaN   \n",
       "\n",
       "        User Behavior Class  \n",
       "count            700.000000  \n",
       "unique                  NaN  \n",
       "top                     NaN  \n",
       "freq                    NaN  \n",
       "mean               2.990000  \n",
       "std                1.401476  \n",
       "min                1.000000  \n",
       "25%                2.000000  \n",
       "50%                3.000000  \n",
       "75%                4.000000  \n",
       "max                5.000000  "
      ]
     },
     "execution_count": 23,
     "metadata": {},
     "output_type": "execute_result"
    }
   ],
   "source": [
    "data.describe(include = \"all\")"
   ]
  },
  {
   "cell_type": "markdown",
   "id": "fc2f252e-f280-47a3-974b-6d8e108509cd",
   "metadata": {},
   "source": [
    "### Data Cleaning and Preprocessing"
   ]
  },
  {
   "cell_type": "code",
   "execution_count": 26,
   "id": "35b0ebbf-d5e3-4145-b448-71848bcee59a",
   "metadata": {},
   "outputs": [
    {
     "data": {
      "text/plain": [
       "User ID                       0\n",
       "Device Model                  0\n",
       "Operating System              0\n",
       "App Usage Time (min/day)      0\n",
       "Screen On Time (hours/day)    0\n",
       "Battery Drain (mAh/day)       0\n",
       "Number of Apps Installed      0\n",
       "Data Usage (MB/day)           0\n",
       "Age                           0\n",
       "Gender                        0\n",
       "User Behavior Class           0\n",
       "dtype: int64"
      ]
     },
     "execution_count": 26,
     "metadata": {},
     "output_type": "execute_result"
    }
   ],
   "source": [
    "#Checking for Null Values\n",
    "\n",
    "data.isna().sum()"
   ]
  },
  {
   "cell_type": "code",
   "execution_count": 28,
   "id": "247ab24a-82f1-4eb0-8030-433809a656dc",
   "metadata": {},
   "outputs": [
    {
     "data": {
      "text/plain": [
       "0"
      ]
     },
     "execution_count": 28,
     "metadata": {},
     "output_type": "execute_result"
    }
   ],
   "source": [
    "data.duplicated().sum()"
   ]
  },
  {
   "cell_type": "markdown",
   "id": "d10b5926-173b-4dd3-b155-37d4b8837ff3",
   "metadata": {},
   "source": [
    "### Exploratory Data Analysis (EDA)"
   ]
  },
  {
   "cell_type": "markdown",
   "id": "043a1cb8-2d86-4db5-86c4-ebb75cad708b",
   "metadata": {},
   "source": [
    "#### Univariate Analysis"
   ]
  },
  {
   "cell_type": "code",
   "execution_count": 32,
   "id": "176cc557-52ad-470f-b2aa-478764dba1a9",
   "metadata": {},
   "outputs": [
    {
     "data": {
      "image/png": "[encoded data removed]",
      "text/plain": [
       "<Figure size 800x600 with 1 Axes>"
      ]
     },
     "metadata": {},
     "output_type": "display_data"
    }
   ],
   "source": [
    "plt.figure(figsize=(8, 6))\n",
    "sns.countplot(x=data['Operating System'],palette='Purples')\n",
    "plt.title('Comparison of Users by Operating System: Android vs iOS')\n",
    "plt.show()"
   ]
  },
  {
   "cell_type": "code",
   "execution_count": 34,
   "id": "e01bd528-6765-46dd-8576-319335fa273a",
   "metadata": {},
   "outputs": [
    {
     "data": {
      "image/png": "[encoded data removed]",
      "text/plain": [
       "<Figure size 640x480 with 1 Axes>"
      ]
     },
     "metadata": {},
     "output_type": "display_data"
    }
   ],
   "source": [
    "sns.countplot (x=data['Gender'], palette='Purples')\n",
    "plt.title('Gender Distribution')\n",
    "plt.show()"
   ]
  },
  {
   "cell_type": "code",
   "execution_count": 36,
   "id": "74c717be-40a1-4707-88c0-2aeb431c23a9",
   "metadata": {},
   "outputs": [
    {
     "data": {
      "text/plain": [
       "array(['Google Pixel 5', 'OnePlus 9', 'Xiaomi Mi 11', 'iPhone 12',\n",
       "       'Samsung Galaxy S21'], dtype=object)"
      ]
     },
     "execution_count": 36,
     "metadata": {},
     "output_type": "execute_result"
    }
   ],
   "source": [
    "data['Device Model'].unique()"
   ]
  },
  {
   "cell_type": "code",
   "execution_count": 38,
   "id": "178915fe-c200-4e9e-b6ca-e7eca53f9801",
   "metadata": {},
   "outputs": [
    {
     "data": {
      "image/png": "[encoded data removed]",
      "text/plain": [
       "<Figure size 800x600 with 1 Axes>"
      ]
     },
     "metadata": {},
     "output_type": "display_data"
    }
   ],
   "source": [
    "plt.figure(figsize=(8, 6))\n",
    "sns.countplot(x=data['Device Model'],palette='Purples')\n",
    "plt.title('Distribution of Users by Device Model')\n",
    "plt.show()"
   ]
  },
  {
   "cell_type": "code",
   "execution_count": 40,
   "id": "952ae0d2-0f85-45ad-be27-6c3a3a5ce5a5",
   "metadata": {},
   "outputs": [
    {
     "data": {
      "image/png": "[encoded data removed]",
      "text/plain": [
       "<Figure size 640x480 with 1 Axes>"
      ]
     },
     "metadata": {},
     "output_type": "display_data"
    }
   ],
   "source": [
    "sns.histplot(data['Age'], kde=True, color='purple')\n",
    "plt.title(\"Distribution of Users According to User's Age\")\n",
    "plt.xlabel('Age')\n",
    "plt.ylabel('Frequency')\n",
    "plt.show()"
   ]
  },
  {
   "cell_type": "code",
   "execution_count": 42,
   "id": "77688051-720c-4aa8-9528-2b3546ed5b76",
   "metadata": {},
   "outputs": [
    {
     "data": {
      "text/plain": [
       "Text(0.5, 0, 'Screen On Time (hours/day)')"
      ]
     },
     "execution_count": 42,
     "metadata": {},
     "output_type": "execute_result"
    },
    {
     "data": {
      "image/png": "[encoded data removed]",
      "text/plain": [
       "<Figure size 640x480 with 1 Axes>"
      ]
     },
     "metadata": {},
     "output_type": "display_data"
    }
   ],
   "source": [
    "sns.boxplot(data['Screen On Time (hours/day)'], color='purple')\n",
    "plt.title('Box Plot of Screen On Time (hours/day)')\n",
    "plt.xlabel('Screen On Time (hours/day)')"
   ]
  },
  {
   "cell_type": "markdown",
   "id": "c0a3d9af-7ca7-49d3-8bac-68eab1f528ba",
   "metadata": {},
   "source": [
    "#### Bivariate Analysis"
   ]
  },
  {
   "cell_type": "code",
   "execution_count": 45,
   "id": "1984bfb4-2f8a-4a82-9600-2420577f7790",
   "metadata": {},
   "outputs": [
    {
     "data": {
      "text/html": [
       "<div>\n",
       "<style scoped>\n",
       "    .dataframe tbody tr th:only-of-type {\n",
       "        vertical-align: middle;\n",
       "    }\n",
       "\n",
       "    .dataframe tbody tr th {\n",
       "        vertical-align: top;\n",
       "    }\n",
       "\n",
       "    .dataframe thead th {\n",
       "        text-align: right;\n",
       "    }\n",
       "</style>\n",
       "<table border=\"1\" class=\"dataframe\">\n",
       "  <thead>\n",
       "    <tr style=\"text-align: right;\">\n",
       "      <th></th>\n",
       "      <th>Gender</th>\n",
       "      <th>Screen On Time (hours/day)</th>\n",
       "    </tr>\n",
       "  </thead>\n",
       "  <tbody>\n",
       "    <tr>\n",
       "      <th>1</th>\n",
       "      <td>Male</td>\n",
       "      <td>1923.1</td>\n",
       "    </tr>\n",
       "    <tr>\n",
       "      <th>0</th>\n",
       "      <td>Female</td>\n",
       "      <td>1767.8</td>\n",
       "    </tr>\n",
       "  </tbody>\n",
       "</table>\n",
       "</div>"
      ],
      "text/plain": [
       "   Gender  Screen On Time (hours/day)\n",
       "1    Male                      1923.1\n",
       "0  Female                      1767.8"
      ]
     },
     "execution_count": 45,
     "metadata": {},
     "output_type": "execute_result"
    }
   ],
   "source": [
    "group = data.groupby('Gender')['Screen On Time (hours/day)'].sum().reset_index().sort_values(by='Gender', ascending=False) \n",
    "group"
   ]
  },
  {
   "cell_type": "code",
   "execution_count": 47,
   "id": "2a03dbc0-d8b9-46ee-9a03-47ca7a5406c6",
   "metadata": {},
   "outputs": [
    {
     "data": {
      "image/png": "[encoded data removed]",
      "text/plain": [
       "<Figure size 640x480 with 1 Axes>"
      ]
     },
     "metadata": {},
     "output_type": "display_data"
    }
   ],
   "source": [
    "sns.barplot(x=\"Gender\", y=\"Screen On Time (hours/day)\", data=group, palette='Purples')\n",
    "plt.title(\"Average Screen On Time by Gender\")\n",
    "plt.xlabel(\"Gender\")\n",
    "plt.ylabel(\"Average Screen On Time (hours/day)\")\n",
    "plt.show()"
   ]
  },
  {
   "cell_type": "code",
   "execution_count": 49,
   "id": "0efbf250-ce43-433d-8a68-3365d9f2817e",
   "metadata": {},
   "outputs": [
    {
     "data": {
      "text/html": [
       "<div>\n",
       "<style scoped>\n",
       "    .dataframe tbody tr th:only-of-type {\n",
       "        vertical-align: middle;\n",
       "    }\n",
       "\n",
       "    .dataframe tbody tr th {\n",
       "        vertical-align: top;\n",
       "    }\n",
       "\n",
       "    .dataframe thead th {\n",
       "        text-align: right;\n",
       "    }\n",
       "</style>\n",
       "<table border=\"1\" class=\"dataframe\">\n",
       "  <thead>\n",
       "    <tr style=\"text-align: right;\">\n",
       "      <th></th>\n",
       "      <th>Gender</th>\n",
       "      <th>Number of Apps Installed</th>\n",
       "    </tr>\n",
       "  </thead>\n",
       "  <tbody>\n",
       "    <tr>\n",
       "      <th>1</th>\n",
       "      <td>Male</td>\n",
       "      <td>18601</td>\n",
       "    </tr>\n",
       "    <tr>\n",
       "      <th>0</th>\n",
       "      <td>Female</td>\n",
       "      <td>16876</td>\n",
       "    </tr>\n",
       "  </tbody>\n",
       "</table>\n",
       "</div>"
      ],
      "text/plain": [
       "   Gender  Number of Apps Installed\n",
       "1    Male                     18601\n",
       "0  Female                     16876"
      ]
     },
     "execution_count": 49,
     "metadata": {},
     "output_type": "execute_result"
    }
   ],
   "source": [
    "group_app = data.groupby('Gender')['Number of Apps Installed'].sum().reset_index().sort_values(by='Gender', ascending=False) \n",
    "group_app"
   ]
  },
  {
   "cell_type": "code",
   "execution_count": 51,
   "id": "1e6b4ba2-1c18-4db4-acaf-0808fbf5654b",
   "metadata": {},
   "outputs": [
    {
     "data": {
      "text/plain": [
       "Text(0, 0.5, 'Average Number of Apps Installed')"
      ]
     },
     "execution_count": 51,
     "metadata": {},
     "output_type": "execute_result"
    },
    {
     "data": {
      "image/png": "[encoded data removed]",
      "text/plain": [
       "<Figure size 640x480 with 1 Axes>"
      ]
     },
     "metadata": {},
     "output_type": "display_data"
    }
   ],
   "source": [
    "sns.barplot(x=\"Gender\", y=\"Number of Apps Installed\", data=group_app, palette='Purples')\n",
    "plt.title(\"Average Number of Apps Installed by Gender\")\n",
    "plt.xlabel(\"Gender\")\n",
    "plt.ylabel(\"Average Number of Apps Installed\")"
   ]
  },
  {
   "cell_type": "code",
   "execution_count": 53,
   "id": "82b73c60-85c5-4e38-9fb5-d8689e986a69",
   "metadata": {},
   "outputs": [
    {
     "data": {
      "text/html": [
       "<div>\n",
       "<style scoped>\n",
       "    .dataframe tbody tr th:only-of-type {\n",
       "        vertical-align: middle;\n",
       "    }\n",
       "\n",
       "    .dataframe tbody tr th {\n",
       "        vertical-align: top;\n",
       "    }\n",
       "\n",
       "    .dataframe thead th {\n",
       "        text-align: right;\n",
       "    }\n",
       "</style>\n",
       "<table border=\"1\" class=\"dataframe\">\n",
       "  <thead>\n",
       "    <tr style=\"text-align: right;\">\n",
       "      <th></th>\n",
       "      <th>Gender</th>\n",
       "      <th>User Behavior Class</th>\n",
       "    </tr>\n",
       "  </thead>\n",
       "  <tbody>\n",
       "    <tr>\n",
       "      <th>1</th>\n",
       "      <td>Male</td>\n",
       "      <td>1088</td>\n",
       "    </tr>\n",
       "    <tr>\n",
       "      <th>0</th>\n",
       "      <td>Female</td>\n",
       "      <td>1005</td>\n",
       "    </tr>\n",
       "  </tbody>\n",
       "</table>\n",
       "</div>"
      ],
      "text/plain": [
       "   Gender  User Behavior Class\n",
       "1    Male                 1088\n",
       "0  Female                 1005"
      ]
     },
     "execution_count": 53,
     "metadata": {},
     "output_type": "execute_result"
    }
   ],
   "source": [
    "group_cls = data.groupby('Gender')['User Behavior Class'].sum().reset_index().sort_values(by='Gender', ascending=False) \n",
    "group_cls"
   ]
  },
  {
   "cell_type": "code",
   "execution_count": 55,
   "id": "982acdcd-cd8b-435f-a217-0c0b4d713a0c",
   "metadata": {},
   "outputs": [
    {
     "data": {
      "image/png": "[encoded data removed]",
      "text/plain": [
       "<Figure size 640x480 with 1 Axes>"
      ]
     },
     "metadata": {},
     "output_type": "display_data"
    }
   ],
   "source": [
    "sns.barplot(x=\"Gender\", y=\"User Behavior Class\", data=group_cls, palette='Purples')\n",
    "plt.title(\"Distribution of User Behavior Classes by Gender\")\n",
    "plt.xlabel(\"Gender\")\n",
    "plt.ylabel(\"User Behavior Class\")\n",
    "plt.show()"
   ]
  },
  {
   "cell_type": "code",
   "execution_count": 57,
   "id": "0198279b-7f1e-45d7-9fa0-6a1626b68d7d",
   "metadata": {},
   "outputs": [
    {
     "data": {
      "text/html": [
       "<div>\n",
       "<style scoped>\n",
       "    .dataframe tbody tr th:only-of-type {\n",
       "        vertical-align: middle;\n",
       "    }\n",
       "\n",
       "    .dataframe tbody tr th {\n",
       "        vertical-align: top;\n",
       "    }\n",
       "\n",
       "    .dataframe thead th {\n",
       "        text-align: right;\n",
       "    }\n",
       "</style>\n",
       "<table border=\"1\" class=\"dataframe\">\n",
       "  <thead>\n",
       "    <tr style=\"text-align: right;\">\n",
       "      <th></th>\n",
       "      <th>Operating System</th>\n",
       "      <th>User Behavior Class</th>\n",
       "    </tr>\n",
       "  </thead>\n",
       "  <tbody>\n",
       "    <tr>\n",
       "      <th>1</th>\n",
       "      <td>iOS</td>\n",
       "      <td>453</td>\n",
       "    </tr>\n",
       "    <tr>\n",
       "      <th>0</th>\n",
       "      <td>Android</td>\n",
       "      <td>1640</td>\n",
       "    </tr>\n",
       "  </tbody>\n",
       "</table>\n",
       "</div>"
      ],
      "text/plain": [
       "  Operating System  User Behavior Class\n",
       "1              iOS                  453\n",
       "0          Android                 1640"
      ]
     },
     "execution_count": 57,
     "metadata": {},
     "output_type": "execute_result"
    }
   ],
   "source": [
    "group_sys = data.groupby('Operating System')['User Behavior Class'].sum().reset_index().sort_values(by='Operating System', ascending=False) \n",
    "group_sys"
   ]
  },
  {
   "cell_type": "code",
   "execution_count": 59,
   "id": "8e0fdd08-ed90-4f9f-8160-c8a6631c5756",
   "metadata": {},
   "outputs": [
    {
     "data": {
      "image/png": "[encoded data removed]",
      "text/plain": [
       "<Figure size 1200x600 with 1 Axes>"
      ]
     },
     "metadata": {},
     "output_type": "display_data"
    }
   ],
   "source": [
    "plt.figure(figsize=(12, 6))\n",
    "sns.barplot(x='Operating System', y='User Behavior Class', data=group_sys, palette='Purples')\n",
    "plt.title(\"Total User Behavior Classes by Operating System\")\n",
    "plt.xlabel(\"Operating System\")\n",
    "plt.ylabel(\"Total User Behavior Classes\")\n",
    "plt.show()"
   ]
  },
  {
   "cell_type": "markdown",
   "id": "d73cb386-5a62-4fdc-9f33-6ada53c3f016",
   "metadata": {},
   "source": [
    "### Hypothesis Testing "
   ]
  },
  {
   "cell_type": "code",
   "execution_count": 62,
   "id": "e77bd277-56f4-4b7b-8d10-022a8c16b505",
   "metadata": {},
   "outputs": [],
   "source": [
    "#Importing libaries \n",
    "\n",
    "from scipy import stats\n",
    "from scipy.stats import shapiro\n",
    "from scipy.stats import levene"
   ]
  },
  {
   "cell_type": "code",
   "execution_count": 64,
   "id": "a4e847a9-3e81-4aba-b080-983589d1f0db",
   "metadata": {},
   "outputs": [],
   "source": [
    "# Separate the data by gender\n",
    "\n",
    "male_usage = data[data['Gender'] == 'Male']['Screen On Time (hours/day)']\n",
    "female_usage = data[data['Gender'] == 'Female']['Screen On Time (hours/day)']\n"
   ]
  },
  {
   "cell_type": "markdown",
   "id": "2a5f4604-574a-455e-a66a-86e56c978cca",
   "metadata": {},
   "source": [
    "#### Shapiro test : Hypothesis test that determines if a data set is normally distributed"
   ]
  },
  {
   "cell_type": "code",
   "execution_count": 67,
   "id": "f24ef56b-c14f-4656-87e2-6419dfb230f9",
   "metadata": {},
   "outputs": [
    {
     "data": {
      "text/plain": [
       "True"
      ]
     },
     "execution_count": 67,
     "metadata": {},
     "output_type": "execute_result"
    }
   ],
   "source": [
    "shapiro(data[data['Gender'] == 'Male']['Screen On Time (hours/day)'])[1]<0.5"
   ]
  },
  {
   "cell_type": "code",
   "execution_count": 69,
   "id": "7a1a647f-db93-4522-a4ad-34a7827d5fe8",
   "metadata": {},
   "outputs": [
    {
     "data": {
      "text/plain": [
       "True"
      ]
     },
     "execution_count": 69,
     "metadata": {},
     "output_type": "execute_result"
    }
   ],
   "source": [
    "shapiro(data[data['Gender'] == 'Female']['Screen On Time (hours/day)'])[1]<0.5"
   ]
  },
  {
   "cell_type": "markdown",
   "id": "2a34e320-4fd1-4197-9c47-8111ac715f4e",
   "metadata": {},
   "source": [
    "#### P-value less than or equal to 0.05 indicates that the null hypothesis of normality is rejected. This means that there is evidence that the data tested are not normally distributed"
   ]
  },
  {
   "cell_type": "markdown",
   "id": "129d4e8d-616e-4d60-99b6-6242df760c2c",
   "metadata": {},
   "source": [
    "### Mann-Whitney U Test \n",
    "#### The test is a non-parametric statistical test that compares two independent samples to determine if they are likely to come from the same population"
   ]
  },
  {
   "cell_type": "code",
   "execution_count": 73,
   "id": "1bf26c65-9c14-4709-827e-ee3973c5566b",
   "metadata": {},
   "outputs": [
    {
     "name": "stdout",
     "output_type": "stream",
     "text": [
      "U-statistic: 60874.0, p-value: 0.9173054318269925\n"
     ]
    }
   ],
   "source": [
    "u_statistic, p_value = stats.mannwhitneyu(male_usage, female_usage)\n",
    "print(f'U-statistic: {u_statistic}, p-value: {p_value}')"
   ]
  },
  {
   "cell_type": "code",
   "execution_count": 75,
   "id": "c5317135-5e21-499a-a7ee-2505dff1747f",
   "metadata": {},
   "outputs": [
    {
     "name": "stdout",
     "output_type": "stream",
     "text": [
      "Fail to Reject Null hypothesis\n"
     ]
    }
   ],
   "source": [
    "alpha = 0.05\n",
    "if p_value <= alpha:\n",
    "    print(f\"Reject Null hypothesis\")\n",
    "else:\n",
    "    print(f\"Fail to Reject Null hypothesis\")\n",
    "    "
   ]
  },
  {
   "cell_type": "code",
   "execution_count": 77,
   "id": "11486dcb-7b3b-4ebb-b430-247119525469",
   "metadata": {},
   "outputs": [],
   "source": [
    "male_behavior = data[data['Gender'] == 'Male']['User Behavior Class']\n",
    "female_behavior = data[data['Gender'] == 'Female']['User Behavior Class']"
   ]
  },
  {
   "cell_type": "code",
   "execution_count": 79,
   "id": "ae0e7598-0498-409b-a13e-ab6de79858e0",
   "metadata": {},
   "outputs": [
    {
     "data": {
      "text/plain": [
       "True"
      ]
     },
     "execution_count": 79,
     "metadata": {},
     "output_type": "execute_result"
    }
   ],
   "source": [
    "shapiro(data[data['Gender'] == 'Male']['User Behavior Class'])[1]<0.5"
   ]
  },
  {
   "cell_type": "code",
   "execution_count": 81,
   "id": "54304b0a-020b-4546-b268-b2fa5895b6a4",
   "metadata": {},
   "outputs": [
    {
     "data": {
      "text/plain": [
       "True"
      ]
     },
     "execution_count": 81,
     "metadata": {},
     "output_type": "execute_result"
    }
   ],
   "source": [
    "shapiro(data[data['Gender'] == 'Female']['User Behavior Class'])[1]<0.5"
   ]
  },
  {
   "cell_type": "code",
   "execution_count": 83,
   "id": "2434e640-c5da-46f6-a9cc-153ea964fffa",
   "metadata": {},
   "outputs": [
    {
     "name": "stdout",
     "output_type": "stream",
     "text": [
      "U-statistic: 61053.5, p-value: 0.9701488073139988\n"
     ]
    }
   ],
   "source": [
    "u_statistic, p_value = stats.mannwhitneyu(male_behavior, female_behavior)\n",
    "print(f'U-statistic: {u_statistic}, p-value: {p_value}')"
   ]
  },
  {
   "cell_type": "code",
   "execution_count": 85,
   "id": "c963ef40-a6f2-42d9-93e7-b80af5319c34",
   "metadata": {},
   "outputs": [
    {
     "name": "stdout",
     "output_type": "stream",
     "text": [
      "Fail to Reject Null hypothesis\n"
     ]
    }
   ],
   "source": [
    "alpha = 0.05\n",
    "if p_value <= alpha:\n",
    "    print(f\"Reject Null hypothesis\")\n",
    "else:\n",
    "    print(f\"Fail to Reject Null hypothesis\")"
   ]
  },
  {
   "cell_type": "code",
   "execution_count": 138,
   "id": "89ffb5f2-3dfe-4c29-93d4-75ca21b7e7a2",
   "metadata": {},
   "outputs": [
    {
     "data": {
      "text/plain": [
       "189790"
      ]
     },
     "execution_count": 138,
     "metadata": {},
     "output_type": "execute_result"
    }
   ],
   "source": [
    "df['App Usage Time (min/day)'].sum()"
   ]
  },
  {
   "cell_type": "code",
   "execution_count": 140,
   "id": "f1835b91-a0be-4904-a142-ddd2262da37f",
   "metadata": {},
   "outputs": [
    {
     "data": {
      "text/plain": [
       "Device Model\n",
       "Google Pixel 5        267.788732\n",
       "OnePlus 9             270.383459\n",
       "Samsung Galaxy S21    266.421053\n",
       "Xiaomi Mi 11          268.452055\n",
       "iPhone 12             282.020548\n",
       "Name: App Usage Time (min/day), dtype: float64"
      ]
     },
     "execution_count": 140,
     "metadata": {},
     "output_type": "execute_result"
    }
   ],
   "source": [
    "df = data.groupby('Device Model')['App Usage Time (min/day)'].mean()\n",
    "df"
   ]
  },
  {
   "cell_type": "code",
   "execution_count": null,
   "id": "c4b9ecf8-cb69-4d63-bc8c-bd05e77b318f",
   "metadata": {},
   "outputs": [],
   "source": []
  },
  {
   "cell_type": "code",
   "execution_count": null,
   "id": "153fe446-9b46-4122-a0c9-823f4add8fe1",
   "metadata": {},
   "outputs": [],
   "source": []
  }
 ],
 "metadata": {
  "kernelspec": {
   "display_name": "Python 3 (ipykernel)",
   "language": "python",
   "name": "python3"
  },
  "language_info": {
   "codemirror_mode": {
    "name": "ipython",
    "version": 3
   },
   "file_extension": ".py",
   "mimetype": "text/x-python",
   "name": "python",
   "nbconvert_exporter": "python",
   "pygments_lexer": "ipython3",
   "version": "3.12.4"
  }
 },
 "nbformat": 4,
 "nbformat_minor": 5
}
